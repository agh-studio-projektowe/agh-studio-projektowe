{
 "cells": [
  {
   "cell_type": "markdown",
   "metadata": {},
   "source": [
    "# Prezentacja działania systemu automatyzacji (system warunkowy)"
   ]
  },
  {
   "attachments": {},
   "cell_type": "markdown",
   "metadata": {},
   "source": [
    "W bazie danych została zapisana automatyzacja oczekująca na temperaturę `5.5` z urządzenia o adresie MAC `00:00:00:00:00:01`. System, po otrzymaniu takiej wartości, powinien wysłać do urządzenia o adresie MAC `00:00:00:00:00:02` wiadomość MQTT o wartości `1`. Symulowany jest tu moduł `mqtt-listener`, który po odebraniu takiej wartości wysyła zapytanie HTTP do API. Jednocześnie, zasubskrybowany został temat MQTT odpowiedni dla urządzenia sterowanego przez automatyzację.\n",
    "\n",
    "Pseudowarunek *IF this THEN that*:\n",
    "\n",
    "```\n",
    "IF\n",
    "    Temperature@00:00:00:00:00:01 EQ 5.5\n",
    "THEN\n",
    "    Switch@00:00:00:00:00:02 SET TO 1\n",
    "```"
   ]
  },
  {
   "cell_type": "code",
   "execution_count": 1,
   "metadata": {},
   "outputs": [],
   "source": [
    "const mqtt = require(\"mqtt\");\n",
    "const axios = require(\"axios\");"
   ]
  },
  {
   "cell_type": "code",
   "execution_count": 2,
   "metadata": {},
   "outputs": [
    {
     "name": "stdout",
     "output_type": "stream",
     "text": [
      "Automation example\n",
      "Client has subscribed successfully\n"
     ]
    }
   ],
   "source": [
    "var client = mqtt.connect(\"mqtt://vps.sokoloowski.pl:1883\");\n",
    "\n",
    "client.on(\"connect\", function () {\n",
    "    client.subscribe(\"/studio/00:00:00:00:00:02/Switch/set\");\n",
    "    console.log(\"Client has subscribed successfully\");\n",
    "});\n",
    "\n",
    "client.on(\"message\", function (topic, payload, packet) {\n",
    "    console.log(`Topic: ${topic}, Message: ${payload.toString()}`);\n",
    "});\n",
    "\n",
    "console.log(\"Automation example\")"
   ]
  },
  {
   "cell_type": "markdown",
   "metadata": {},
   "source": [
    "Po wysłaniu zapytania HTTP, powinniśmy dostać wiadomość MQTT na zasubskrybowanym temacie oraz odpowiedź z API."
   ]
  },
  {
   "cell_type": "code",
   "execution_count": 3,
   "metadata": {},
   "outputs": [
    {
     "name": "stdout",
     "output_type": "stream",
     "text": [
      "Sending request...\n"
     ]
    },
    {
     "data": {
      "text/plain": [
       "Promise { <pending> }"
      ]
     },
     "execution_count": 3,
     "metadata": {},
     "output_type": "execute_result"
    },
    {
     "name": "stdout",
     "output_type": "stream",
     "text": [
      "Topic: /studio/00:00:00:00:00:02/Switch/set, Message: 1\n",
      "HTTP response: OK\n"
     ]
    }
   ],
   "source": [
    "console.log(\"Sending request...\");\n",
    "axios\n",
    "    .post(\"http://127.0.0.1:8000/api/sensor/mqtt\", {\n",
    "        username: \"jkowalski@example.com\",\n",
    "        device: \"00:00:00:00:00:01\",\n",
    "        value: 5.5,\n",
    "        type: \"Temperature\",\n",
    "        received: new Date().getTime(),\n",
    "    })\n",
    "    .then(function (response) {\n",
    "        console.log(`HTTP response: ${response.data.message}`);\n",
    "    })\n",
    "    .catch(function (error) {\n",
    "        console.log(`Error: ${error}`);\n",
    "    });"
   ]
  }
 ],
 "metadata": {
  "kernelspec": {
   "display_name": "JavaScript (Node.js)",
   "language": "javascript",
   "name": "javascript"
  },
  "language_info": {
   "file_extension": ".js",
   "mimetype": "application/javascript",
   "name": "javascript",
   "version": "18.12.1"
  },
  "vscode": {
   "interpreter": {
    "hash": "916dbcbb3f70747c44a77c7bcd40155683ae19c65e1c03b4aa3499c5328201f1"
   }
  }
 },
 "nbformat": 4,
 "nbformat_minor": 2
}
